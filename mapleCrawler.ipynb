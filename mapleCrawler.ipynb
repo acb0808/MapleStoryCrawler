{
 "cells": [
  {
   "cell_type": "code",
   "execution_count": 1,
   "metadata": {},
   "outputs": [],
   "source": [
    "class Event:\n",
    "    def __init__(self, info):\n",
    "        self.info = info\n",
    "        self.url = info[0]\n",
    "        self.thumbnail = info[1]\n",
    "        self.title = info[2]\n",
    "        self.date = info[3]\n",
    "        self.id = info[0].split('/')[-1]\n",
    "    def __repr__(self):\n",
    "        return str(self.info)\n",
    "    def view(self):\n",
    "        import requests\n",
    "        response = requests.get(self.url).text\n",
    "        head, tail = response.split('<div class=\"blind\">')\n",
    "        self.img = head.split('<div>')[-1].split('<img src=\"')[1].split('\"')[0]\n",
    "        self.content = (tail.split('</div>')[0].strip().replace('\\r\\n', '\\n')\n",
    "                        .replace('<h2>', '# ').replace('</h2>', '')\n",
    "                        .replace('<h3>', '## ').replace('</h3>', '')\n",
    "                        .replace('<h4>', '\\n**').replace('</h4>', '**\\n')\n",
    "                        .replace('<p>', '> ').replace('</p>', '')\n",
    "                        .replace('<ul>', '').replace('</ul>', '')\n",
    "                        .replace('<ol>', '').replace('</ol>', '')\n",
    "                        .replace('\\t', '').replace('<li>', '').replace('</li>', '')\n",
    "                        .replace('&amp;', '&').replace('&lt;', '<').replace('&gt;', '>')\n",
    "                        .replace('.\\n\\n', '.').replace(' \\n\\n', '')\n",
    "                        .replace('\\n> \\n', '\\n\\n')\n",
    "                        )\n"
   ]
  },
  {
   "cell_type": "code",
   "execution_count": 2,
   "metadata": {},
   "outputs": [],
   "source": [
    "class EventBundle:\n",
    "    def __init__(self):\n",
    "        print(' : ', 'Initialized!')\n",
    "    def connection_check(self, host='http://8.8.8.8'):\n",
    "        import requests\n",
    "        try:\n",
    "            requests.head(host, timeout=1)\n",
    "        except requests.ConnectionError:\n",
    "            return False\n",
    "        return True\n",
    "\n",
    "    def getOngoingEvent(self, page=1):\n",
    "        import requests\n",
    "        response = requests.get('https://maplestory.nexon.com/News/Event/Ongoing?page='+str(page)).text\n",
    "        return self._pretreatEventHTML(response)\n",
    "\n",
    "    def getClosedEvent(self, page=1):\n",
    "        import requests\n",
    "        response = requests.get('https://maplestory.nexon.com/News/Event/Closed?page='+str(page)).text\n",
    "        return self._pretreatEventHTML(response)\n",
    "    def _pretreatEventHTML(self, raw_html):\n",
    "        raw_event_htmls = raw_html.split('<div class=\"event_board\">')[1].split('</ul>')[0].split('<li>')[1:]\n",
    "        raw_event_htmls = [i.strip() for i in raw_event_htmls]\n",
    "        raw_event_htmls = [i for i in raw_event_htmls if 'zzzzzzzz.png' not in i]\n",
    "        raw_event_htmls = [i.replace('\\r\\n', '') for i in raw_event_htmls]\n",
    "        events = [['https://maplestory.nexon.com/'+i.split('a href=\"')[1].split('\"')[0],\n",
    "                i.split('<img src=\"')[1].split('\"')[0],\n",
    "                i.split('<dd class=\"data\">')[1].split('p>')[1].split('\">')[1].split('</a')[0],\n",
    "                i.split('<dd class=\"date\">')[1].split('p>')[1].split('</')[0],\n",
    "        ] for i in raw_event_htmls]\n",
    "        events = [Event(event) for event in events]\n",
    "        return events\n",
    "\n"
   ]
  },
  {
   "cell_type": "code",
   "execution_count": 3,
   "metadata": {},
   "outputs": [
    {
     "name": "stdout",
     "output_type": "stream",
     "text": [
      "Initialized!\n",
      "이벤트 제목 :  썬데이 메이플\n",
      "이벤트 기간 :  2023.07.23 ~ 2023.07.23\n",
      "이벤트 썸네일 :  https://file.nexon.com/NxFile/download/FileDownloader.aspx?oidFile=5701596925418018980\n",
      "이벤트 보기 url :  https://maplestory.nexon.com//News/Event/Ongoing/800?page=1\n",
      "이벤트 내용 사진 :  https://lwi.nexon.com/maplestory/2023/0721_board/93AD7424854BB905.jpg\n",
      "\n",
      " === 이벤트 내용 ===\n",
      "# 썬데이 메이플\n",
      "## 이벤트 기간\n",
      "> 2023년 7월 23일(일) 오전 7시 ~ 오후 11시 30분\n",
      "\n",
      "* 주문의 흔적 강화 비용 50% 할인\n",
      "* 소울 조각 사용 시 위대한 소울 획득 확률 5배!\n",
      "위대한 소울 획득 확률 1% → 5%\n",
      "\n"
     ]
    }
   ],
   "source": [
    "handler = EventBundle()\n",
    "if handler.connection_check('https://maplestory.nexon.com'):\n",
    "    latest_event = handler.getOngoingEvent(page=1)[0]\n",
    "    latest_event.view()\n",
    "    print('이벤트 제목 : ', latest_event.title)\n",
    "    print('이벤트 기간 : ', latest_event.date)\n",
    "    print('이벤트 썸네일 : ', latest_event.thumbnail)\n",
    "    print('이벤트 보기 url : ', latest_event.url)\n",
    "    print('이벤트 내용 사진 : ', latest_event.img)\n",
    "\n",
    "    print('\\n === 이벤트 내용 ===')\n",
    "    print(latest_event.content)"
   ]
  },
  {
   "cell_type": "code",
   "execution_count": null,
   "metadata": {},
   "outputs": [],
   "source": []
  }
 ],
 "metadata": {
  "kernelspec": {
   "display_name": "Python 3",
   "language": "python",
   "name": "python3"
  },
  "language_info": {
   "codemirror_mode": {
    "name": "ipython",
    "version": 3
   },
   "file_extension": ".py",
   "mimetype": "text/x-python",
   "name": "python",
   "nbconvert_exporter": "python",
   "pygments_lexer": "ipython3",
   "version": "3.7.6"
  },
  "orig_nbformat": 4
 },
 "nbformat": 4,
 "nbformat_minor": 2
}
